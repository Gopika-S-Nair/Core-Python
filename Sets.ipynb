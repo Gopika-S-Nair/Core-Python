{
  "cells": [
    {
      "cell_type": "markdown",
      "metadata": {
        "id": "XgAtt2oxBy-a"
      },
      "source": [
        "**SET**\n",
        "\n",
        "\n",
        "-- Sets are a type of collection like list, dictionary.\n",
        "\n",
        "-- Set accepts all data types.\n",
        "\n",
        "-- No duplication is allowed in set.\n",
        "\n",
        "-- It is an unordered structure.\n",
        "\n",
        "-- It is applied in big data environments where data flow is high.\n",
        "\n",
        "-- It is used in comparative analysis.\n",
        "\n",
        "-- Sets are enclosed within curly brackets and elements are written as comma-separated"
      ]
    },
    {
      "cell_type": "code",
      "execution_count": 20,
      "metadata": {
        "id": "5tTfop7CBy_a",
        "colab": {
          "base_uri": "https://localhost:8080/"
        },
        "outputId": "f52f89c8-dc0e-48a2-98bb-a7fded623dfa"
      },
      "outputs": [
        {
          "output_type": "execute_result",
          "data": {
            "text/plain": [
              "{2, 3, 4, 5, 6}"
            ]
          },
          "metadata": {},
          "execution_count": 20
        }
      ],
      "source": [
        "# converting list to set\n",
        "\n",
        "list1 = [2,3,4,5,6]\n",
        "\n",
        "set_1 = set(list1)\n",
        "\n",
        "set_1"
      ]
    },
    {
      "cell_type": "code",
      "execution_count": 24,
      "metadata": {
        "id": "E9v80j8KBy_a",
        "colab": {
          "base_uri": "https://localhost:8080/"
        },
        "outputId": "4c64fc46-b0e3-45bc-ded7-88715351af2a"
      },
      "outputs": [
        {
          "output_type": "execute_result",
          "data": {
            "text/plain": [
              "{1, 2, 3, 4, 5, 9, 10}"
            ]
          },
          "metadata": {},
          "execution_count": 24
        }
      ],
      "source": [
        "list2 = [1,2,3,4,5, 5, 5, 5, 5, 5,9,10,10] # duplicates are ignored\n",
        "\n",
        "set_2 = set(list2)\n",
        "\n",
        "set_2"
      ]
    },
    {
      "cell_type": "code",
      "execution_count": 25,
      "metadata": {
        "id": "Oht2yNBLBy_b",
        "colab": {
          "base_uri": "https://localhost:8080/"
        },
        "outputId": "71c130a0-9bf0-47bb-c880-20c31c067777"
      },
      "outputs": [
        {
          "output_type": "execute_result",
          "data": {
            "text/plain": [
              "{1, 2, 3, 4, 6, 7, 8}"
            ]
          },
          "metadata": {},
          "execution_count": 25
        }
      ],
      "source": [
        "set_3 = {1,2,3,4,4,7,6,8}\n",
        "\n",
        "set_3"
      ]
    },
    {
      "cell_type": "code",
      "execution_count": 26,
      "metadata": {
        "id": "ww0_nbxOBy_d",
        "colab": {
          "base_uri": "https://localhost:8080/"
        },
        "outputId": "3e007a37-086c-46fb-9c75-937c5e5f4be9"
      },
      "outputs": [
        {
          "output_type": "execute_result",
          "data": {
            "text/plain": [
              "set"
            ]
          },
          "metadata": {},
          "execution_count": 26
        }
      ],
      "source": [
        "set_4 = set({})    # creating an empty set\n",
        "\n",
        "type(set_4)"
      ]
    },
    {
      "cell_type": "code",
      "execution_count": 29,
      "metadata": {
        "id": "8-JTFD6UBy_e",
        "outputId": "33a5fb56-e0f9-4061-994f-ed23f346a705",
        "colab": {
          "base_uri": "https://localhost:8080/"
        }
      },
      "outputs": [
        {
          "output_type": "execute_result",
          "data": {
            "text/plain": [
              "{1, 2, 3, 4, 5, 'India'}"
            ]
          },
          "metadata": {},
          "execution_count": 29
        }
      ],
      "source": [
        "# adding an elemnt into the set\n",
        "\n",
        "set_5 = {1,2,3,4,5}\n",
        "\n",
        "set_5.add(\"India\")\n",
        "\n",
        "set_5"
      ]
    },
    {
      "cell_type": "code",
      "execution_count": 30,
      "metadata": {
        "id": "XYwCcU7ABy_h",
        "outputId": "6e8d4e5f-0770-49e7-8459-d752ede8463e",
        "colab": {
          "base_uri": "https://localhost:8080/"
        }
      },
      "outputs": [
        {
          "output_type": "execute_result",
          "data": {
            "text/plain": [
              "{1, 2, 3, 4, 5}"
            ]
          },
          "metadata": {},
          "execution_count": 30
        }
      ],
      "source": [
        "# removing an element from the set\n",
        "\n",
        "set_5.remove(\"India\")\n",
        "\n",
        "set_5"
      ]
    },
    {
      "cell_type": "markdown",
      "metadata": {
        "id": "dsOtFn69By_h"
      },
      "source": [
        "#### Set Operations"
      ]
    },
    {
      "cell_type": "code",
      "execution_count": 31,
      "metadata": {
        "id": "W8W4P-tdBy_i"
      },
      "outputs": [],
      "source": [
        "A = {0,2,4,6,8}\n",
        "B = {1,2,3,4,5}"
      ]
    },
    {
      "cell_type": "code",
      "execution_count": 34,
      "metadata": {
        "id": "tHSO7GoBBy_i",
        "outputId": "8dfa9815-835b-4b0d-ce51-85395404e624",
        "colab": {
          "base_uri": "https://localhost:8080/"
        }
      },
      "outputs": [
        {
          "output_type": "stream",
          "name": "stdout",
          "text": [
            "{0, 1, 2, 3, 4, 5, 6, 8}\n",
            "{0, 1, 2, 3, 4, 5, 6, 8}\n",
            "8\n"
          ]
        }
      ],
      "source": [
        "#union()  All the unique elemnts in both sets\n",
        "\n",
        "print(A | B)\n",
        "print(A.union(B))\n",
        "print(len(A.union(B)))"
      ]
    },
    {
      "cell_type": "code",
      "execution_count": 35,
      "metadata": {
        "id": "WOPPoDC-By_i",
        "outputId": "0e48a313-daff-4c2e-dd18-376d8fbfc123",
        "colab": {
          "base_uri": "https://localhost:8080/"
        }
      },
      "outputs": [
        {
          "output_type": "stream",
          "name": "stdout",
          "text": [
            "{2, 4}\n",
            "{2, 4}\n"
          ]
        }
      ],
      "source": [
        "#intersection()   Only the elements which are common in both\n",
        "\n",
        "print(A & B)\n",
        "print(A.intersection(B))"
      ]
    },
    {
      "cell_type": "code",
      "execution_count": 36,
      "metadata": {
        "id": "tiWdm3OEBy_j",
        "outputId": "43ecf269-a3c9-456e-e05a-d5bb8da16a6f",
        "colab": {
          "base_uri": "https://localhost:8080/"
        }
      },
      "outputs": [
        {
          "output_type": "stream",
          "name": "stdout",
          "text": [
            "{0, 8, 6}\n",
            "{0, 8, 6}\n"
          ]
        }
      ],
      "source": [
        "#difference     Elements in A which are not in B\n",
        "\n",
        "print(A - B)\n",
        "print(A.difference(B))"
      ]
    },
    {
      "cell_type": "markdown",
      "metadata": {
        "id": "Q1o9JyNkBy_n"
      },
      "source": [
        "#### Practice Codes"
      ]
    },
    {
      "cell_type": "code",
      "execution_count": 41,
      "metadata": {
        "id": "MsRCvSrPBy_o",
        "outputId": "a9dfc2db-1cd0-4016-9873-80823bf4ae97",
        "colab": {
          "base_uri": "https://localhost:8080/"
        }
      },
      "outputs": [
        {
          "output_type": "stream",
          "name": "stdout",
          "text": [
            "[1, 3, 5, 7]\n"
          ]
        }
      ],
      "source": [
        "A = [5,1,3,4,4,5,6,7]\n",
        "B = [3,3,5,5, 1 ,7 ,2]\n",
        "set_6 = set(A) & set(B)     # convert list to set, & stands for intersection\n",
        "print(sorted(set_6))        # sorting the output\n"
      ]
    },
    {
      "cell_type": "code",
      "execution_count": 43,
      "metadata": {
        "id": "tSBirf06By_o",
        "outputId": "47aeaf27-6940-410b-a3fc-39a106264d1b",
        "colab": {
          "base_uri": "https://localhost:8080/"
        }
      },
      "outputs": [
        {
          "output_type": "stream",
          "name": "stdout",
          "text": [
            "[1, 3, 5, 7]\n",
            "{1, 3, 5, 7}\n"
          ]
        }
      ],
      "source": [
        "list_6 = [5,1,3,4,4,5,6,7]\n",
        "list_7 = [3,3,5,5,1,7,2]\n",
        "list_6_as_set = set(list_6)\n",
        "i = list_6_as_set.intersection(list_7)\n",
        "print(list(i))         # converting to list\n",
        "print(i)"
      ]
    }
  ],
  "metadata": {
    "kernelspec": {
      "display_name": "Python 3",
      "language": "python",
      "name": "python3"
    },
    "language_info": {
      "codemirror_mode": {
        "name": "ipython",
        "version": 3
      },
      "file_extension": ".py",
      "mimetype": "text/x-python",
      "name": "python",
      "nbconvert_exporter": "python",
      "pygments_lexer": "ipython3",
      "version": "3.7.3"
    },
    "colab": {
      "provenance": []
    }
  },
  "nbformat": 4,
  "nbformat_minor": 0
}