{
  "nbformat": 4,
  "nbformat_minor": 0,
  "metadata": {
    "colab": {
      "provenance": []
    },
    "kernelspec": {
      "name": "python3",
      "display_name": "Python 3"
    },
    "language_info": {
      "name": "python"
    }
  },
  "cells": [
    {
      "cell_type": "markdown",
      "source": [
        "**LIST**\n",
        "\n",
        "\n",
        "*   Collection of data enclosed by square [ ] brackets and separated by comma.\n",
        "*   List accepts different data types\n",
        "*   Ordered\n",
        "*   Mutable - alteration possible after list creation.\n",
        "*   Indexable\n"
      ],
      "metadata": {
        "id": "MoGN5zxAW_jk"
      }
    },
    {
      "cell_type": "code",
      "source": [
        "mix_list = ['alex', 8, 4.5, True, 5+6j]\n",
        "print(mix_list)"
      ],
      "metadata": {
        "colab": {
          "base_uri": "https://localhost:8080/"
        },
        "id": "YBSWOUNEWEHI",
        "outputId": "c5823233-5579-48b9-f456-4c70ab748d63"
      },
      "execution_count": 5,
      "outputs": [
        {
          "output_type": "stream",
          "name": "stdout",
          "text": [
            "['alex', 8, 4.5, True, (5+6j)]\n"
          ]
        }
      ]
    },
    {
      "cell_type": "code",
      "source": [
        "print(len(mix_list))  # find number of elements in the list."
      ],
      "metadata": {
        "colab": {
          "base_uri": "https://localhost:8080/"
        },
        "id": "njVr66NKZ2dI",
        "outputId": "b13f2c54-6073-4cae-8046-f2968d04ae64"
      },
      "execution_count": 11,
      "outputs": [
        {
          "output_type": "stream",
          "name": "stdout",
          "text": [
            "5\n"
          ]
        }
      ]
    },
    {
      "cell_type": "code",
      "source": [
        "print(mix_list[0])  # indexing - 0th index is alex."
      ],
      "metadata": {
        "colab": {
          "base_uri": "https://localhost:8080/"
        },
        "id": "oDjdVaJYZQUK",
        "outputId": "9206bf14-1d85-4a63-85f4-c702a8c304be"
      },
      "execution_count": 10,
      "outputs": [
        {
          "output_type": "stream",
          "name": "stdout",
          "text": [
            "alex\n"
          ]
        }
      ]
    },
    {
      "cell_type": "code",
      "source": [
        "print(mix_list[1:4])  # slicing - starting index 1 to ending index 4-1=3."
      ],
      "metadata": {
        "colab": {
          "base_uri": "https://localhost:8080/"
        },
        "id": "jqxbBYA5ZQhs",
        "outputId": "ba4e3985-1c55-429c-8e70-d434e8f78d1e"
      },
      "execution_count": 12,
      "outputs": [
        {
          "output_type": "stream",
          "name": "stdout",
          "text": [
            "[8, 4.5, True]\n"
          ]
        }
      ]
    },
    {
      "cell_type": "code",
      "source": [
        "print(mix_list[0:6:2])  # slicing - start : end+1 : step value. From 0th to 5th index increases by 2."
      ],
      "metadata": {
        "colab": {
          "base_uri": "https://localhost:8080/"
        },
        "id": "nJ6JLAccagrt",
        "outputId": "da24c70e-c83c-4dbe-b2d4-0c83c403cf82"
      },
      "execution_count": 13,
      "outputs": [
        {
          "output_type": "stream",
          "name": "stdout",
          "text": [
            "['alex', 4.5, (5+6j)]\n"
          ]
        }
      ]
    },
    {
      "cell_type": "code",
      "source": [
        "mix_list.reverse()    # reversing the list elements.\n",
        "print(mix_list)"
      ],
      "metadata": {
        "colab": {
          "base_uri": "https://localhost:8080/"
        },
        "id": "CXosanXUa7p5",
        "outputId": "7c56ad12-1f0c-47fc-ad62-ad80450cd2c7"
      },
      "execution_count": 18,
      "outputs": [
        {
          "output_type": "stream",
          "name": "stdout",
          "text": [
            "[(5+6j), True, 4.5, 8, 'alex']\n"
          ]
        }
      ]
    },
    {
      "cell_type": "code",
      "source": [
        "a = [4,6,2,-4,-60,73]"
      ],
      "metadata": {
        "id": "P8XoFWCda7sl"
      },
      "execution_count": 22,
      "outputs": []
    },
    {
      "cell_type": "code",
      "source": [
        "a.sort()            # sorting - smallest to largest(ascending order. doesnt work for bool and complex.\n",
        "print(a)"
      ],
      "metadata": {
        "colab": {
          "base_uri": "https://localhost:8080/"
        },
        "id": "XcM-BNf8b-uT",
        "outputId": "e8366340-40a6-4693-9656-b619fde88ecb"
      },
      "execution_count": 23,
      "outputs": [
        {
          "output_type": "stream",
          "name": "stdout",
          "text": [
            "[-60, -4, 2, 4, 6, 73]\n"
          ]
        }
      ]
    },
    {
      "cell_type": "code",
      "source": [
        "max(a)      # finding maximum"
      ],
      "metadata": {
        "colab": {
          "base_uri": "https://localhost:8080/"
        },
        "id": "T5yQZ_G8a7wO",
        "outputId": "d6f7812c-6e3d-4d72-eee8-d326e9086a0e"
      },
      "execution_count": 32,
      "outputs": [
        {
          "output_type": "execute_result",
          "data": {
            "text/plain": [
              "73"
            ]
          },
          "metadata": {},
          "execution_count": 32
        }
      ]
    },
    {
      "cell_type": "code",
      "source": [
        "min(a)      # finding minimum"
      ],
      "metadata": {
        "colab": {
          "base_uri": "https://localhost:8080/"
        },
        "id": "AXcDMBbzdGof",
        "outputId": "e4cd4a43-dda0-4b50-82b1-944ca9b72784"
      },
      "execution_count": 33,
      "outputs": [
        {
          "output_type": "execute_result",
          "data": {
            "text/plain": [
              "-60"
            ]
          },
          "metadata": {},
          "execution_count": 33
        }
      ]
    },
    {
      "cell_type": "code",
      "source": [
        "a.append(45)    # APPEND is used to add a new entry to the list. New data is added at the last index.\n",
        "print(a)"
      ],
      "metadata": {
        "colab": {
          "base_uri": "https://localhost:8080/"
        },
        "id": "mUQiwvdKdGrH",
        "outputId": "e44e2021-c65f-4aed-f387-2b5a8053d3a9"
      },
      "execution_count": 35,
      "outputs": [
        {
          "output_type": "stream",
          "name": "stdout",
          "text": [
            "[-60, -4, 2, 4, 6, 73, 45, 45]\n"
          ]
        }
      ]
    },
    {
      "cell_type": "code",
      "source": [
        "a.insert(2,100)  # INSERT used to add new entry in the specified index. Here 100 is inserted into the 2nd index.\n",
        "print(a)"
      ],
      "metadata": {
        "colab": {
          "base_uri": "https://localhost:8080/"
        },
        "id": "fczWc8ChdGur",
        "outputId": "f82ef417-1081-4eb0-e181-b30d62e8876a"
      },
      "execution_count": 36,
      "outputs": [
        {
          "output_type": "stream",
          "name": "stdout",
          "text": [
            "[-60, -4, 100, 2, 4, 6, 73, 45, 45]\n"
          ]
        }
      ]
    },
    {
      "cell_type": "code",
      "source": [
        "a.extend([11,22,33])    # EXTEND used to add more than one element. Also added at the end of the list like append.\n",
        "print(a)"
      ],
      "metadata": {
        "colab": {
          "base_uri": "https://localhost:8080/"
        },
        "id": "WXXF9Yp1eRuE",
        "outputId": "51a4887f-b33e-4b89-cdad-993112cb13c2"
      },
      "execution_count": 37,
      "outputs": [
        {
          "output_type": "stream",
          "name": "stdout",
          "text": [
            "[-60, -4, 100, 2, 4, 6, 73, 45, 45, 11, 22, 33]\n"
          ]
        }
      ]
    },
    {
      "cell_type": "code",
      "source": [
        "a[0] = 'Hello'        # Change the elemets of the list based on their index. 0th index will be changed to Hello.\n",
        "print(a)"
      ],
      "metadata": {
        "colab": {
          "base_uri": "https://localhost:8080/"
        },
        "id": "7deRGgtIeRwc",
        "outputId": "732dfa4d-4908-4146-f80c-89986177afe3"
      },
      "execution_count": 38,
      "outputs": [
        {
          "output_type": "stream",
          "name": "stdout",
          "text": [
            "['Hello', -4, 100, 2, 4, 6, 73, 45, 45, 11, 22, 33]\n"
          ]
        }
      ]
    },
    {
      "cell_type": "code",
      "source": [
        "a[0:3] = ['first','second','third']    # 0,1,2 indexes will be changed."
      ],
      "metadata": {
        "id": "a2bpnuJ8eR0Y"
      },
      "execution_count": 40,
      "outputs": []
    },
    {
      "cell_type": "code",
      "source": [
        "print(a)"
      ],
      "metadata": {
        "colab": {
          "base_uri": "https://localhost:8080/"
        },
        "id": "WNg2JINgfnJp",
        "outputId": "8b9712b2-8c10-489a-8d25-0ec9a57b8d51"
      },
      "execution_count": 41,
      "outputs": [
        {
          "output_type": "stream",
          "name": "stdout",
          "text": [
            "['first', 'second', 'third', 2, 4, 6, 73, 45, 45, 11, 22, 33]\n"
          ]
        }
      ]
    },
    {
      "cell_type": "code",
      "source": [
        "a.remove(45)  # REMOVE will delete the element in the paranthesis from the list. If more tha one 45 is there, only the first 45 is removed.\n",
        "print(a)"
      ],
      "metadata": {
        "colab": {
          "base_uri": "https://localhost:8080/"
        },
        "id": "y4RdibEpfnNI",
        "outputId": "8e133106-3ee4-4ad4-89f7-738ef99a69a1"
      },
      "execution_count": 42,
      "outputs": [
        {
          "output_type": "stream",
          "name": "stdout",
          "text": [
            "['first', 'second', 'third', 2, 4, 6, 73, 45, 11, 22, 33]\n"
          ]
        }
      ]
    },
    {
      "cell_type": "code",
      "source": [
        "a.pop()        # POP deletes the last entry.\n",
        "print(a)"
      ],
      "metadata": {
        "colab": {
          "base_uri": "https://localhost:8080/"
        },
        "id": "U2MNDEudgP7E",
        "outputId": "13bbe74d-59a7-4f7d-b632-ab9e7f2f6a95"
      },
      "execution_count": 43,
      "outputs": [
        {
          "output_type": "stream",
          "name": "stdout",
          "text": [
            "['first', 'second', 'third', 2, 4, 6, 73, 45, 11, 22]\n"
          ]
        }
      ]
    },
    {
      "cell_type": "code",
      "source": [
        "print(a.pop(1))        # delete based on index number."
      ],
      "metadata": {
        "colab": {
          "base_uri": "https://localhost:8080/"
        },
        "id": "5DsQEu2IgP-A",
        "outputId": "277d4729-a85b-47b7-c818-56c0fbedc9c6"
      },
      "execution_count": 44,
      "outputs": [
        {
          "output_type": "stream",
          "name": "stdout",
          "text": [
            "second\n"
          ]
        }
      ]
    },
    {
      "cell_type": "code",
      "source": [
        "print(a)"
      ],
      "metadata": {
        "colab": {
          "base_uri": "https://localhost:8080/"
        },
        "id": "5p6u7fEfgQAg",
        "outputId": "8361dd00-d19b-4002-e21b-47f796bd4858"
      },
      "execution_count": 45,
      "outputs": [
        {
          "output_type": "stream",
          "name": "stdout",
          "text": [
            "['first', 'third', 2, 4, 6, 73, 45, 11, 22]\n"
          ]
        }
      ]
    },
    {
      "cell_type": "code",
      "source": [
        "a.count(22)           # number of times 2 appers in the list a."
      ],
      "metadata": {
        "colab": {
          "base_uri": "https://localhost:8080/"
        },
        "id": "caxinfqag_aJ",
        "outputId": "1f633db4-69e7-402b-9152-393ccd0b4fe4"
      },
      "execution_count": 48,
      "outputs": [
        {
          "output_type": "execute_result",
          "data": {
            "text/plain": [
              "1"
            ]
          },
          "metadata": {},
          "execution_count": 48
        }
      ]
    },
    {
      "cell_type": "code",
      "source": [
        "a.copy()            # creates a shallow copy equivalent to a[:]"
      ],
      "metadata": {
        "colab": {
          "base_uri": "https://localhost:8080/"
        },
        "id": "la5AYdbMhRfY",
        "outputId": "14881f65-5fc3-4b97-d68e-c48091d2a56f"
      },
      "execution_count": 49,
      "outputs": [
        {
          "output_type": "execute_result",
          "data": {
            "text/plain": [
              "['first', 'third', 2, 4, 6, 73, 45, 11, 22]"
            ]
          },
          "metadata": {},
          "execution_count": 49
        }
      ]
    },
    {
      "cell_type": "code",
      "source": [
        "#a.clear()     Removes all elements from the list. Equivalent to del a[:]"
      ],
      "metadata": {
        "id": "AVLf5nazhSNO"
      },
      "execution_count": null,
      "outputs": []
    },
    {
      "cell_type": "code",
      "source": [],
      "metadata": {
        "id": "pn8yAYW_hSiO"
      },
      "execution_count": null,
      "outputs": []
    }
  ]
}