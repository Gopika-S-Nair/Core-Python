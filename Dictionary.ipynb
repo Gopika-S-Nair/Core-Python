{
  "nbformat": 4,
  "nbformat_minor": 0,
  "metadata": {
    "colab": {
      "provenance": []
    },
    "kernelspec": {
      "name": "python3",
      "display_name": "Python 3"
    },
    "language_info": {
      "name": "python"
    }
  },
  "cells": [
    {
      "cell_type": "markdown",
      "source": [
        "## Dictionary\n",
        "\n",
        "   - Dictionary stores element as keys and value pairs\n",
        "   - The key is like an index, its always unique & immutable\n",
        "   - The values are the objects that contain information\n",
        "   - Values are accessed using their keys\n",
        "   - Each key is followed by a value separated by a colon\n",
        "   - The values can be immutable, mutable, & duplicates\n",
        "   - Each key and value pair is separated by a comma enclosed inside curly brackets"
      ],
      "metadata": {
        "id": "SR4lAEh0Amib"
      }
    },
    {
      "cell_type": "code",
      "execution_count": 1,
      "metadata": {
        "id": "yV7GxlOvAl_Y"
      },
      "outputs": [],
      "source": [
        "fruits= {1:'apple',2:'orange',3:'grapes'}"
      ]
    },
    {
      "cell_type": "code",
      "source": [
        "type(fruits)    # to find the datatype of the object"
      ],
      "metadata": {
        "id": "XMGtoHNk6tF-",
        "outputId": "f3d576af-5036-4f4d-cfd5-4c10826b2807",
        "colab": {
          "base_uri": "https://localhost:8080/"
        }
      },
      "execution_count": 2,
      "outputs": [
        {
          "output_type": "execute_result",
          "data": {
            "text/plain": [
              "dict"
            ]
          },
          "metadata": {},
          "execution_count": 2
        }
      ]
    },
    {
      "cell_type": "code",
      "source": [
        "len(fruits)     # to find thelength or number of elements in the dictionary"
      ],
      "metadata": {
        "id": "PAFFa7fX9Ipa",
        "outputId": "a7fd7218-dbcc-4855-de2d-8b56a0f2923a",
        "colab": {
          "base_uri": "https://localhost:8080/"
        }
      },
      "execution_count": 3,
      "outputs": [
        {
          "output_type": "execute_result",
          "data": {
            "text/plain": [
              "3"
            ]
          },
          "metadata": {},
          "execution_count": 3
        }
      ]
    },
    {
      "cell_type": "code",
      "source": [
        "fruits.keys()       # to separate the keys alone"
      ],
      "metadata": {
        "id": "z2gH7ljy9X5R",
        "outputId": "4ed424d4-d74d-49ce-ba60-1eb635596280",
        "colab": {
          "base_uri": "https://localhost:8080/"
        }
      },
      "execution_count": 4,
      "outputs": [
        {
          "output_type": "execute_result",
          "data": {
            "text/plain": [
              "dict_keys([1, 2, 3])"
            ]
          },
          "metadata": {},
          "execution_count": 4
        }
      ]
    },
    {
      "cell_type": "code",
      "source": [
        "fruits.values()      # to separate the values alone"
      ],
      "metadata": {
        "id": "WHDJjWQT9n0t",
        "outputId": "1a2f08a8-9961-41e9-de1d-935453699c43",
        "colab": {
          "base_uri": "https://localhost:8080/"
        }
      },
      "execution_count": 5,
      "outputs": [
        {
          "output_type": "execute_result",
          "data": {
            "text/plain": [
              "dict_values(['apple', 'orange', 'grapes'])"
            ]
          },
          "metadata": {},
          "execution_count": 5
        }
      ]
    },
    {
      "cell_type": "code",
      "source": [
        "fruits.items()        # to view the key and value pairs in a list"
      ],
      "metadata": {
        "id": "Hb1HHOkH9w8-",
        "outputId": "a7eae05e-f0fb-4b37-879c-09080e92c10e",
        "colab": {
          "base_uri": "https://localhost:8080/"
        }
      },
      "execution_count": 6,
      "outputs": [
        {
          "output_type": "execute_result",
          "data": {
            "text/plain": [
              "dict_items([(1, 'apple'), (2, 'orange'), (3, 'grapes')])"
            ]
          },
          "metadata": {},
          "execution_count": 6
        }
      ]
    },
    {
      "cell_type": "code",
      "execution_count": 7,
      "metadata": {
        "id": "doyg85zc1nYU",
        "outputId": "2cc74a6b-0990-47c3-b106-9d1d5701be27",
        "colab": {
          "base_uri": "https://localhost:8080/"
        }
      },
      "outputs": [
        {
          "output_type": "execute_result",
          "data": {
            "text/plain": [
              "1"
            ]
          },
          "metadata": {},
          "execution_count": 7
        }
      ],
      "source": [
        "# Creating a dictionary\n",
        "\n",
        "d1 = {\"India\": 1, \"USA\": 2, \"Hong Kong\": 3}\n",
        "\n",
        "# Accessing value using keys\n",
        "\n",
        "d1[\"India\"]"
      ]
    },
    {
      "cell_type": "code",
      "execution_count": 8,
      "metadata": {
        "id": "KzPFmNY21nYW",
        "outputId": "84378b29-71ac-4a39-da40-60a62db24b5a",
        "colab": {
          "base_uri": "https://localhost:8080/"
        }
      },
      "outputs": [
        {
          "output_type": "execute_result",
          "data": {
            "text/plain": [
              "{'India': 'NEW', 'USA': 2, 'Hong Kong': 3}"
            ]
          },
          "metadata": {},
          "execution_count": 8
        }
      ],
      "source": [
        "# Replacing the value for a key in a dictionary\n",
        "\n",
        "d1[\"India\"] = \"NEW\"\n",
        "d1"
      ]
    },
    {
      "cell_type": "code",
      "execution_count": 9,
      "metadata": {
        "id": "Vnd2LcMi1nYW",
        "colab": {
          "base_uri": "https://localhost:8080/"
        },
        "outputId": "c4e7cf18-62c8-4787-c58f-28308542ffc4"
      },
      "outputs": [
        {
          "output_type": "execute_result",
          "data": {
            "text/plain": [
              "{'India': 'NEW', 'USA': 2, 'Hong Kong': 3, 'Japan': 4}"
            ]
          },
          "metadata": {},
          "execution_count": 9
        }
      ],
      "source": [
        "# Adding another key value pair to the existing dictionary\n",
        "\n",
        "d1[\"Japan\"] = 4\n",
        "d1"
      ]
    },
    {
      "cell_type": "code",
      "execution_count": 10,
      "metadata": {
        "id": "5ia0WCTx1nYZ",
        "outputId": "29f21517-6880-42db-98ea-5c154f66f7ad",
        "colab": {
          "base_uri": "https://localhost:8080/"
        }
      },
      "outputs": [
        {
          "output_type": "execute_result",
          "data": {
            "text/plain": [
              "{'India': 'NEW', 'USA': 2, 'Hong Kong': 3}"
            ]
          },
          "metadata": {},
          "execution_count": 10
        }
      ],
      "source": [
        "# Deleting a key value pair\n",
        "\n",
        "del d1[\"Japan\"]\n",
        "\n",
        "d1"
      ]
    },
    {
      "cell_type": "code",
      "execution_count": null,
      "metadata": {
        "id": "FjMlTWBB1nYa",
        "outputId": "350c8cc3-f5df-4dc4-aaf0-7d0a58d3ce25",
        "colab": {
          "base_uri": "https://localhost:8080/"
        }
      },
      "outputs": [
        {
          "output_type": "execute_result",
          "data": {
            "text/plain": [
              "['Hong Kong', 'India', 'USA']"
            ]
          },
          "metadata": {},
          "execution_count": 13
        }
      ],
      "source": [
        "# Sorting a dictionary\n",
        "\n",
        "sorted(d1)"
      ]
    },
    {
      "cell_type": "code",
      "source": [
        "# values() method\n",
        "\n",
        "d1.values()"
      ],
      "metadata": {
        "colab": {
          "base_uri": "https://localhost:8080/"
        },
        "id": "Mg6JdZBDC6l8",
        "outputId": "1f9f652d-b348-4dc2-8225-38a1ad8b65f4"
      },
      "execution_count": 12,
      "outputs": [
        {
          "output_type": "execute_result",
          "data": {
            "text/plain": [
              "dict_values(['NEW', 2, 3])"
            ]
          },
          "metadata": {},
          "execution_count": 12
        }
      ]
    },
    {
      "cell_type": "code",
      "execution_count": 11,
      "metadata": {
        "id": "c5tyHNQC1nYb",
        "outputId": "9afee3d4-c126-4c0c-8bb0-622cc0b34884",
        "colab": {
          "base_uri": "https://localhost:8080/"
        }
      },
      "outputs": [
        {
          "output_type": "execute_result",
          "data": {
            "text/plain": [
              "dict_keys(['India', 'USA', 'Hong Kong'])"
            ]
          },
          "metadata": {},
          "execution_count": 11
        }
      ],
      "source": [
        "# keys() method\n",
        "\n",
        "d1.keys()"
      ]
    },
    {
      "cell_type": "code",
      "execution_count": 13,
      "metadata": {
        "id": "kZsFeNVG1nYb",
        "outputId": "8b7c93f4-8898-4220-fd72-561ebed9fa31",
        "colab": {
          "base_uri": "https://localhost:8080/",
          "height": 36
        }
      },
      "outputs": [
        {
          "output_type": "execute_result",
          "data": {
            "text/plain": [
              "'NEW'"
            ],
            "application/vnd.google.colaboratory.intrinsic+json": {
              "type": "string"
            }
          },
          "metadata": {},
          "execution_count": 13
        }
      ],
      "source": [
        "# get() method\n",
        "\n",
        "d1.get('India')"
      ]
    },
    {
      "cell_type": "code",
      "source": [
        "# update() mehtod\n",
        "d1.update({\"India\" : 1000})\n",
        "d1"
      ],
      "metadata": {
        "colab": {
          "base_uri": "https://localhost:8080/"
        },
        "id": "xlXaS2QvDNad",
        "outputId": "5ecbd82c-ea0f-4500-c7d0-2839d4b64117"
      },
      "execution_count": 14,
      "outputs": [
        {
          "output_type": "execute_result",
          "data": {
            "text/plain": [
              "{'India': 1000, 'USA': 2, 'Hong Kong': 3}"
            ]
          },
          "metadata": {},
          "execution_count": 14
        }
      ]
    },
    {
      "cell_type": "code",
      "source": [
        "d1[\"India\"] = 11111      # replacing. Alternative to update() method.\n",
        "d1"
      ],
      "metadata": {
        "colab": {
          "base_uri": "https://localhost:8080/"
        },
        "id": "30wbrvl9DbLl",
        "outputId": "cc97f85b-e76d-4d59-8012-82679148e883"
      },
      "execution_count": 15,
      "outputs": [
        {
          "output_type": "execute_result",
          "data": {
            "text/plain": [
              "{'India': 11111, 'USA': 2, 'Hong Kong': 3}"
            ]
          },
          "metadata": {},
          "execution_count": 15
        }
      ]
    }
  ]
}